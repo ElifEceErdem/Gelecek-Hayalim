{
  "nbformat": 4,
  "nbformat_minor": 0,
  "metadata": {
    "colab": {
      "provenance": []
    },
    "kernelspec": {
      "name": "python3",
      "display_name": "Python 3"
    },
    "language_info": {
      "name": "python"
    }
  },
  "cells": [
    {
      "cell_type": "markdown",
      "metadata": {
        "id": "rr63STR_Ghy3"
      },
      "source": [
        "### Kutuphane yukleyelim"
      ]
    },
    {
      "cell_type": "code",
      "execution_count": 1,
      "metadata": {
        "id": "FLC4u0_zGhy7"
      },
      "outputs": [],
      "source": [
        "from IPython.display import clear_output\n",
        "import random   #imports the random library"
      ]
    },
    {
      "cell_type": "markdown",
      "metadata": {
        "id": "vgQWreKEGhy9"
      },
      "source": [
        "`clear_output` fonksiyonu, Jupyter notebook veya IPython shell gibi ortamlarda hücre çıktısını temizlemek için kullanılır. Özellikle interaktif ortamlarda kullanışlıdır çünkü mevcut çıktıyı temizleyerek yeni çıktıları daha net bir şekilde göstermeye olanak tanır. Örneğin, aynı hücreyi tekrar tekrar çalıştırırken, her çalıştırmadan önce çıktıları temizlemek isteyebilirsiniz."
      ]
    },
    {
      "cell_type": "code",
      "execution_count": 2,
      "metadata": {
        "colab": {
          "base_uri": "https://localhost:8080/"
        },
        "id": "6rOHfCb_Ghy_",
        "outputId": "25fad167-cd2e-495e-af30-e95cdbca4e06"
      },
      "outputs": [
        {
          "output_type": "stream",
          "name": "stdout",
          "text": [
            "Boom!\n"
          ]
        }
      ],
      "source": [
        "# İşte `clear_output` fonksiyonunu nasıl kullanabileceğinize dair bir örnek:\n",
        "\n",
        "from IPython.display import clear_output\n",
        "import time\n",
        "\n",
        "for i in range(5):\n",
        "    print(\"Countdown:\", 5 - i)\n",
        "    time.sleep(1)\n",
        "    clear_output(wait=True)  # wait=True olduğunda ekran temizlendikten sonra yeni çıktının beklenmesini sağlar\n",
        "\n",
        "print(\"Boom!\")\n",
        "\n",
        "#Bu örnekte, her bir geri sayım adımı sırasında ekran temizlenir ve yeni sayıyı gösterir. Bu şekilde, her adımda aynı satıra yazılmaz ve geri sayım daha net bir şekilde görüntülenir."
      ]
    },
    {
      "cell_type": "markdown",
      "source": [
        "### XOX (Tic Tac Toe) Nasıl Oynanır?\n",
        "**Oyuncular:** 2 Kişi\n",
        "\n",
        "**Oyun Amacı:**\n",
        "\n",
        "Rakibinizden önce 3 tane X veya O'yu yatay, dikey veya çapraz şekilde sıralayarak oyunu kazanmaktır.\n",
        "\n",
        "**Kurallar:**\n",
        "\n",
        "\n",
        "1.   Oyuncular, X ve O sembollerini kullanarak 3x3'lük bir oyun tahtası oluşturmak için sırayla birer kareye işaretlerler.\n",
        "2.   Oyuna başlamak için rastgele bir oyuncu seçilir.\n",
        "3.   Oyuncu X veya O'yu seçer.\n",
        "4.   Her oyuncu, her turda bir kare seçer ve sembolünü o kareye çizer.\n",
        "5.   Bir oyuncu 3 sembolünü bir sıra halinde yerleştirmeyi başarırsa oyunu kazanır.\n",
        "6.   Her iki oyuncu da tüm kareleri doldurur ve kimse 3'lü sıra oluşturamazsa oyun berabere biter."
      ],
      "metadata": {
        "id": "8c1Ta7baN4K6"
      }
    },
    {
      "cell_type": "code",
      "execution_count": 3,
      "metadata": {
        "id": "Y_CTjzdnGhzB"
      },
      "outputs": [],
      "source": [
        "board = ['#',' ',' ',' ',' ',' ',' ',' ',' ',' '] # Oyunumuz icin bos bir board olusturalim"
      ]
    },
    {
      "cell_type": "code",
      "execution_count": 4,
      "metadata": {
        "colab": {
          "base_uri": "https://localhost:8080/"
        },
        "id": "E_7LFCVsGhzD",
        "outputId": "3e4e9f52-1a42-41bd-f5ec-da117cedc0c2"
      },
      "outputs": [
        {
          "output_type": "execute_result",
          "data": {
            "text/plain": [
              "['#', ' ', ' ', ' ', ' ', ' ', ' ', ' ', ' ', ' ']"
            ]
          },
          "metadata": {},
          "execution_count": 4
        }
      ],
      "source": [
        "board"
      ]
    },
    {
      "cell_type": "code",
      "execution_count": 5,
      "metadata": {
        "colab": {
          "base_uri": "https://localhost:8080/"
        },
        "id": "G6sM5OomGhzE",
        "outputId": "8b82adca-7038-4bc6-bd8d-fbc7b19cc005"
      },
      "outputs": [
        {
          "output_type": "stream",
          "name": "stdout",
          "text": [
            "  |   | \n"
          ]
        }
      ],
      "source": [
        "print('  |   | ')"
      ]
    },
    {
      "cell_type": "code",
      "execution_count": 6,
      "metadata": {
        "colab": {
          "base_uri": "https://localhost:8080/"
        },
        "id": "dg8oc8JNGhzF",
        "outputId": "4173f65e-a5ca-4551-f0ac-5fd5c8f0a050"
      },
      "outputs": [
        {
          "output_type": "stream",
          "name": "stdout",
          "text": [
            "  |   | \n",
            "  |   |  \n"
          ]
        }
      ],
      "source": [
        "print('  |   | ')\n",
        "print(board[1]+' | '+board[2]+' | '+board[3])"
      ]
    },
    {
      "cell_type": "code",
      "execution_count": 7,
      "metadata": {
        "colab": {
          "base_uri": "https://localhost:8080/"
        },
        "id": "0bQ7DCwDGhzG",
        "outputId": "0ad993cf-3c44-4ff0-fe3d-3b361a843ea0"
      },
      "outputs": [
        {
          "output_type": "stream",
          "name": "stdout",
          "text": [
            "  |   | \n",
            "  |   |  \n",
            "  |   | \n"
          ]
        }
      ],
      "source": [
        "print('  |   | ')\n",
        "print(board[1]+' | '+board[2]+' | '+board[3])\n",
        "print('  |   | ')"
      ]
    },
    {
      "cell_type": "code",
      "execution_count": 8,
      "metadata": {
        "colab": {
          "base_uri": "https://localhost:8080/"
        },
        "id": "Azc47SNtGhzH",
        "outputId": "70294657-0acb-4ff0-bdd0-74d792baeba0"
      },
      "outputs": [
        {
          "output_type": "stream",
          "name": "stdout",
          "text": [
            "  |   | \n",
            "  |   |  \n",
            "  |   | \n",
            "----------\n"
          ]
        }
      ],
      "source": [
        "print('  |   | ')\n",
        "print(board[1]+' | '+board[2]+' | '+board[3])\n",
        "print('  |   | ')\n",
        "print(\"----------\")"
      ]
    },
    {
      "cell_type": "code",
      "execution_count": 9,
      "metadata": {
        "colab": {
          "base_uri": "https://localhost:8080/"
        },
        "id": "_YqmD0w2GhzH",
        "outputId": "ebcc643f-83f9-477b-d6f8-d367cd850f67"
      },
      "outputs": [
        {
          "output_type": "stream",
          "name": "stdout",
          "text": [
            "  |   | \n",
            "  |   |  \n",
            "  |   | \n",
            "----------\n",
            "  |   | \n",
            "  |   |  \n",
            "  |   | \n",
            "----------\n",
            "  |   | \n",
            "  |   |  \n",
            "  |   | \n"
          ]
        }
      ],
      "source": [
        "def display(board):\n",
        "    clear_output()\n",
        "    print('  |   | ')\n",
        "    print(board[1]+' | '+board[2]+' | '+board[3])\n",
        "    print('  |   | ')\n",
        "    print(\"----------\")\n",
        "    print('  |   | ')\n",
        "    print(board[4]+' | '+board[5]+' | '+board[6])\n",
        "    print('  |   | ')\n",
        "    print(\"----------\")\n",
        "    print('  |   | ')\n",
        "    print(board[7]+' | '+board[8]+' | '+board[9])\n",
        "    print('  |   | ')\n",
        "\n",
        "display(board)"
      ]
    },
    {
      "cell_type": "code",
      "source": [
        "# kullaniciya nereye isaret koyabilecegini anlamak icin fonsiyon\n",
        "\n",
        "\n",
        "def display_position_board():\n",
        "\n",
        "  print(\"Lutfen marker'inizi yerlstireceginiz pozisyonu secin.. \")\n",
        "\n",
        "  print('  |   | ')\n",
        "  print('1'+' | '+'2'+' | '+'3')\n",
        "  print('  |   | ')\n",
        "  print(\"----------\")\n",
        "  print('  |   | ')\n",
        "  print('4'+' | '+'5'+' | '+'6')\n",
        "  print('  |   | ')\n",
        "  print(\"----------\")\n",
        "  print('  |   | ')\n",
        "  print('7'+' | '+'8'+' | '+'9')\n",
        "  print('  |   | ')\n",
        "\n",
        "\n",
        "\n",
        "display_position_board() # fonksiyon cagrisi"
      ],
      "metadata": {
        "colab": {
          "base_uri": "https://localhost:8080/"
        },
        "id": "TcY2n3z5HOOu",
        "outputId": "557eabc7-3e98-4fcd-d319-76203fff1c62"
      },
      "execution_count": 10,
      "outputs": [
        {
          "output_type": "stream",
          "name": "stdout",
          "text": [
            "Lutfen marker'inizi yerlstireceginiz pozisyonu secin.. \n",
            "  |   | \n",
            "1 | 2 | 3\n",
            "  |   | \n",
            "----------\n",
            "  |   | \n",
            "4 | 5 | 6\n",
            "  |   | \n",
            "----------\n",
            "  |   | \n",
            "7 | 8 | 9\n",
            "  |   | \n"
          ]
        }
      ]
    },
    {
      "cell_type": "code",
      "source": [
        "# kullanıcının oyun tahtasındaki bir pozisyon seçmesini sağlamak icin fonksiyon\n",
        "\n",
        "def position_choice():\n",
        "\n",
        "  choice = '' # en basta secimimiz bos karakter dizisi\n",
        "\n",
        "  while choice not in range(1,10): #1, 2, 3, ...., 9\n",
        "    choice = int(input(\"Lutfen marker'inizi yerlestireceginiz pozisyonu secin(1-9): \"))\n",
        "\n",
        "    if choice not in range(1,10):\n",
        "      clear_output() # ekran temizlenir, kullanicidan yeni sayi girmesi istenir.\n",
        "\n",
        "\n",
        "  return choice\n"
      ],
      "metadata": {
        "id": "OzAW7MZ1Hfur"
      },
      "execution_count": 11,
      "outputs": []
    },
    {
      "cell_type": "code",
      "source": [
        "def player_input():\n",
        "    marker = '' #kullanıcının seçeceği işareti tutmak için boş bir dize olarak başlatılır.\n",
        "    player1 = '' # player1 ve computer değişkenleri, kullanıcının seçtiği işareti ve bilgisayarın kalan işaretini tutmak için boş bir dize olarak başlatılır.\n",
        "    computer = ''\n",
        "    while not (marker == 'X' or marker == 'O'): # marker X veya O olmadığı sürece kullanıcıya işaret seçmesi için bir input isteği yapılır.\n",
        "\n",
        "        marker = input(\"Lutfen bir marker seciniz 'x' or 'o': \").upper() # Girilen değer büyük harfe dönüştürülür (upper() kullanılarak).\n",
        "\n",
        "        if (marker != 'X') or (marker != 'O'): # Eğer girilen işaret X veya O değilse,\n",
        "            clear_output() # ekran temizlenir (clear_output()) ve kullanıcıya tekrar işaret seçmesi istenir.\n",
        "\n",
        "        if marker == 'X': # Eğer kullanıcı X seçerse, kullanıcıya seçtiği işaret ve bilgisayarın kalan işareti söylenir (print kullanılarak) ve player1 ve computer değişkenleri güncellenir.\n",
        "            print(f\"Siz --> '{marker}' '\")\n",
        "            print(\"Computer --> O\")\n",
        "            player1,computer = 'X','O'\n",
        "\n",
        "        elif marker == 'O': # Eğer kullanıcı O seçerse, yine aynı işlemler yapılır.\n",
        "            print(f\"Siz --> '{marker}' '\")\n",
        "            print(\"Computer --> X \")\n",
        "            player1,computer = 'O','X'\n",
        "    return player1,computer # Son olarak, player1 ve computer değişkenleri tuple olarak döndürülür."
      ],
      "metadata": {
        "id": "EV3m_1cvGaBR"
      },
      "execution_count": 12,
      "outputs": []
    },
    {
      "cell_type": "code",
      "source": [
        "# belirli bir pozisyonda (position) oyun tahtasının (board) boş olup olmadığını kontrol eden fonksiyon. position ve board olmak üzere iki parametre alır.\n",
        "\n",
        "def empty_space(position, board):\n",
        "  return board[position] == ' ' #  belirli pozisyon bos ise True, dolu ise False dondurur."
      ],
      "metadata": {
        "id": "KkME7GNEHvcp"
      },
      "execution_count": 13,
      "outputs": []
    },
    {
      "cell_type": "code",
      "source": [
        "# oyun tahtasının (board) dolu olup olmadığını kontrol eden fonksiyon\n",
        "\n",
        "def full_board_check(board):\n",
        "\n",
        "  for i in range(1,10):\n",
        "    if board[i] == ' ':\n",
        "      return False #dolu olup olmadigini kontrol ettigi icin False dondurdum\n",
        "\n",
        "  return True #eger butun pozisyonlar dolu ise, True doner."
      ],
      "metadata": {
        "id": "O8CIiqOzH3JQ"
      },
      "execution_count": 14,
      "outputs": []
    },
    {
      "cell_type": "code",
      "source": [
        "# belirli bir pozisyona (position) belirli bir işaret (marker) yerleştirmek için kullanilan fonksiyon\n",
        "\n",
        "def placing_input(board, position, marker):\n",
        "\n",
        "  board[position] = marker"
      ],
      "metadata": {
        "id": "NHgmNuBOHwiM"
      },
      "execution_count": 15,
      "outputs": []
    },
    {
      "cell_type": "code",
      "source": [
        "print(board)\n",
        "\n",
        "placing_input(board, 1, 'X')\n",
        "print(board)\n",
        "\n",
        "placing_input(board, 3, '0')\n",
        "print(board)"
      ],
      "metadata": {
        "colab": {
          "base_uri": "https://localhost:8080/"
        },
        "id": "86l-rykuPp3E",
        "outputId": "d363be6b-1ce0-47db-db52-b38bbd7a09e4"
      },
      "execution_count": 16,
      "outputs": [
        {
          "output_type": "stream",
          "name": "stdout",
          "text": [
            "['#', ' ', ' ', ' ', ' ', ' ', ' ', ' ', ' ', ' ']\n",
            "['#', 'X', ' ', ' ', ' ', ' ', ' ', ' ', ' ', ' ']\n",
            "['#', 'X', ' ', '0', ' ', ' ', ' ', ' ', ' ', ' ']\n"
          ]
        }
      ]
    },
    {
      "cell_type": "code",
      "source": [
        "# bir oyuncunun (mark) oyun tahtasında (board) kazanıp kazanmadığını kontrol eden fonksiyon.\n",
        "# Kazanma durumu, aynı işaretin üçlüsünün yan yana, alt alta veya çapraz olarak tahtada olmasıyla gerçekleşir.\n",
        "# Eğer kazanma koşulu sağlanıyorsa, True değeri döndürülür; aksi halde False döndürülür.\n",
        "\n",
        "def win_check(board, mark):\n",
        "\n",
        "  #kazanma kosullari: bunlardan biri gerceklesirse, yani True donerse, kazanirim.\n",
        "\n",
        "  return ((board[7] == mark and board[8] == mark and board[9] == mark) or # yan yana (en alt)\n",
        "    (board[4] == mark and board[5] == mark and board[6] == mark) or # yan yana (orta)\n",
        "    (board[1] == mark and board[2] == mark and board[3] == mark) or # yan yana (en ust)\n",
        "    (board[7] == mark and board[4] == mark and board[1] == mark) or # ust uste (sol)\n",
        "    (board[8] == mark and board[5] == mark and board[2] == mark) or # ust uste (orta)\n",
        "    (board[9] == mark and board[6] == mark and board[3] == mark) or # ust uste (sag)\n",
        "    (board[7] == mark and board[5] == mark and board[3] == mark) or # çapraz\n",
        "    (board[9] == mark and board[5] == mark and board[1] == mark)) # çapraz\n",
        "\n",
        "\n"
      ],
      "metadata": {
        "id": "Vz4she3IHwfj"
      },
      "execution_count": 17,
      "outputs": []
    },
    {
      "cell_type": "code",
      "source": [
        "# bilgisayarın rastgele bir sayı üretmesini sağlayan fonksiyon (marker'ini board'un hangi pozisyonuna yerlestirecegini anlamak icin)\n",
        "\n",
        "def computer():\n",
        "  # bilgisayarin hangi pozisyona mark atacagini belirtmek icin random sayi dondurur.\n",
        "\n",
        "  return random.randint(1,9) # random kutuhanesindeki, randint fonksiyonunu 1 ve 9 parametresiyle cagirir, yani integer olan 1 ve 9 sayilari arasindan (1-9 dahil) rastgele sayi uretir."
      ],
      "metadata": {
        "id": "UhKVY-v0IGCB"
      },
      "execution_count": 18,
      "outputs": []
    },
    {
      "cell_type": "code",
      "source": [
        "#  oyunda kimin başlayacağını rastgele seçen fonksiyon.\n",
        "\n",
        "def whose_turn():\n",
        "\n",
        "  r = random.randint(1,2)\n",
        "\n",
        "  if r == 1:\n",
        "    return \"player1\"\n",
        "  else:\n",
        "    return 'computer'"
      ],
      "metadata": {
        "id": "YCt1CzqfIGHF"
      },
      "execution_count": 19,
      "outputs": []
    },
    {
      "cell_type": "code",
      "source": [
        "turn = whose_turn()\n",
        "print(turn)"
      ],
      "metadata": {
        "colab": {
          "base_uri": "https://localhost:8080/"
        },
        "id": "uPNfwE7PIGmV",
        "outputId": "1fcd6fac-5666-47ea-f6e3-8cc4ea6649b4"
      },
      "execution_count": 20,
      "outputs": [
        {
          "output_type": "stream",
          "name": "stdout",
          "text": [
            "computer\n"
          ]
        }
      ]
    },
    {
      "cell_type": "code",
      "source": [
        "display_position_board()\n",
        "\n",
        "turn = whose_turn() # kimin baslayacagi belli olsun\n",
        "\n",
        "print(\"Kimin sirasi ???\")\n",
        "print(turn)\n",
        "\n",
        "print(\"XOX oyunumuza hosgeldiniz !!!\")\n",
        "\n",
        "play = True\n",
        "\n",
        "#while play:  #play False olana kadar oyun devam etsin\n",
        "\n",
        "board = ['#', ' ', ' ', ' ', ' ', ' ', ' ', ' ', ' ', ' ']  # Oyun başladığında, boş bir tahta oluşturulur\n",
        "\n",
        "player1_marker, computer_marker = player_input() # oyuncuların seçeceği işaretler (player1_marker ve computer_marker) belirlenir\n",
        "\n",
        "display_position_board()\n",
        "\n",
        "turn = whose_turn() # kimin baslayacagi belli olsun\n",
        "print(turn)\n",
        "\n",
        "game_on = True  #kullancidan marker degeri alindiktan sonra oyun baslar\n",
        "\n",
        "\n",
        "while game_on: # game_on False olana kadar oyun devam eder\n",
        "\n",
        "  if turn == \"player1\":\n",
        "    position = position_choice()\n",
        "\n",
        "    # kullanicinin sectigi pozisyonun bos olup olmadigini kontrol edelim\n",
        "    if empty_space(position,board): #true donerse, o pozisyon board'da bos demek\n",
        "      placing_input(board, position, player1_marker)\n",
        "      display(board)\n",
        "\n",
        "      if win_check(board, player1_marker): # her adimda kazanma durumu kontrol edilir\n",
        "        print(\"Tebrikler kazandiniz !\")\n",
        "        break\n",
        "\n",
        "\n",
        "      if full_board_check(board): # eger bord'da bos alan kalmadiysa ve o zamana kadar kazanma durumu olmadiysa berabere kalindi demek\n",
        "        print('Oyun beraber kaldi ')\n",
        "        break\n",
        "\n",
        "\n",
        "\n",
        "      turn = 'computer' # sira bilgisayarda\n",
        "\n",
        "\n",
        "  else:\n",
        "\n",
        "    position = computer()\n",
        "\n",
        "    if empty_space(position, board):\n",
        "\n",
        "      placing_input(board, position, computer_marker)\n",
        "      display(board)\n",
        "\n",
        "      if win_check(board, computer_marker):\n",
        "        print(\"Kaybettiniz, bilgisayar kazandi :(\")\n",
        "        break\n",
        "\n",
        "      if full_board_check(board):\n",
        "        print(\"Oyun berabere kaldi \")\n",
        "        break\n",
        "\n",
        "      turn = \"player1\"\n",
        "\n",
        "\n",
        "\n",
        "print(\"Oynadiginiz icin tesekkurler .. \")\n",
        "\n",
        "\n",
        "\n",
        "\n"
      ],
      "metadata": {
        "colab": {
          "base_uri": "https://localhost:8080/"
        },
        "id": "JDaJeKpFeEd-",
        "outputId": "12fe038a-2cd0-4203-b7eb-45ec7360ed42"
      },
      "execution_count": 22,
      "outputs": [
        {
          "output_type": "stream",
          "name": "stdout",
          "text": [
            "  |   | \n",
            "O | X |  \n",
            "  |   | \n",
            "----------\n",
            "  |   | \n",
            "O | X |  \n",
            "  |   | \n",
            "----------\n",
            "  |   | \n",
            "  | X | O\n",
            "  |   | \n",
            "Tebrikler kazandiniz !\n",
            "Oynadiginiz icin tesekkurler .. \n"
          ]
        }
      ]
    },
    {
      "cell_type": "code",
      "source": [],
      "metadata": {
        "id": "YHdWf67z736u"
      },
      "execution_count": 22,
      "outputs": []
    }
  ]
}